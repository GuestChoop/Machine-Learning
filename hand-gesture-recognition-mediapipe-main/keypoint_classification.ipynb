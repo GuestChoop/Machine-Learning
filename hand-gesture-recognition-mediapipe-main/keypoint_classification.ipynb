{
 "cells": [
  {
   "cell_type": "code",
   "metadata": {
    "ExecuteTime": {
     "end_time": "2024-05-06T20:57:26.408347Z",
     "start_time": "2024-05-06T20:57:21.660884Z"
    }
   },
   "source": [
    "import csv\n",
    "\n",
    "import numpy as np\n",
    "import tensorflow as tf\n",
    "from sklearn.model_selection import train_test_split\n",
    "\n",
    "RANDOM_SEED = 42"
   ],
   "outputs": [],
   "execution_count": 1
  },
  {
   "cell_type": "markdown",
   "metadata": {},
   "source": [
    "# 各パス指定"
   ]
  },
  {
   "cell_type": "code",
   "metadata": {
    "ExecuteTime": {
     "end_time": "2024-05-06T20:57:26.424262Z",
     "start_time": "2024-05-06T20:57:26.409300Z"
    }
   },
   "source": [
    "dataset = 'model/keypoint_classifier/keypoint.csv'\n",
    "model_save_path = 'model/keypoint_classifier/keypoint_classifier.hdf5'"
   ],
   "outputs": [],
   "execution_count": 2
  },
  {
   "cell_type": "markdown",
   "metadata": {},
   "source": [
    "# 分類数設定"
   ]
  },
  {
   "cell_type": "code",
   "metadata": {
    "ExecuteTime": {
     "end_time": "2024-05-06T20:57:26.440217Z",
     "start_time": "2024-05-06T20:57:26.427252Z"
    }
   },
   "source": "NUM_CLASSES = 4",
   "outputs": [],
   "execution_count": 3
  },
  {
   "cell_type": "markdown",
   "metadata": {},
   "source": [
    "# 学習データ読み込み"
   ]
  },
  {
   "cell_type": "code",
   "metadata": {
    "ExecuteTime": {
     "end_time": "2024-05-06T20:57:26.533312Z",
     "start_time": "2024-05-06T20:57:26.441214Z"
    }
   },
   "source": [
    "X_dataset = np.loadtxt(dataset, delimiter=',', dtype='float32', usecols=list(range(1, (21 * 2) + 1)))"
   ],
   "outputs": [],
   "execution_count": 4
  },
  {
   "cell_type": "code",
   "metadata": {
    "ExecuteTime": {
     "end_time": "2024-05-06T20:57:26.564233Z",
     "start_time": "2024-05-06T20:57:26.535311Z"
    }
   },
   "source": [
    "y_dataset = np.loadtxt(dataset, delimiter=',', dtype='int32', usecols=(0))"
   ],
   "outputs": [],
   "execution_count": 5
  },
  {
   "cell_type": "code",
   "metadata": {
    "ExecuteTime": {
     "end_time": "2024-05-06T20:57:26.580191Z",
     "start_time": "2024-05-06T20:57:26.565231Z"
    }
   },
   "source": [
    "X_train, X_test, y_train, y_test = train_test_split(X_dataset, y_dataset, train_size=0.75, random_state=RANDOM_SEED)"
   ],
   "outputs": [],
   "execution_count": 6
  },
  {
   "cell_type": "markdown",
   "metadata": {},
   "source": [
    "# モデル構築"
   ]
  },
  {
   "cell_type": "code",
   "metadata": {
    "ExecuteTime": {
     "end_time": "2024-05-06T20:57:26.672909Z",
     "start_time": "2024-05-06T20:57:26.581189Z"
    }
   },
   "source": [
    "model = tf.keras.models.Sequential([\n",
    "    tf.keras.layers.Input((21 * 2, )),\n",
    "    tf.keras.layers.Dropout(0.2),\n",
    "    tf.keras.layers.Dense(20, activation='relu'),\n",
    "    tf.keras.layers.Dropout(0.4),\n",
    "    tf.keras.layers.Dense(10, activation='relu'),\n",
    "    tf.keras.layers.Dense(NUM_CLASSES, activation='softmax')\n",
    "])"
   ],
   "outputs": [],
   "execution_count": 7
  },
  {
   "cell_type": "code",
   "metadata": {
    "ExecuteTime": {
     "end_time": "2024-05-06T20:57:26.703862Z",
     "start_time": "2024-05-06T20:57:26.673909Z"
    }
   },
   "source": [
    "model.summary()  # tf.keras.utils.plot_model(model, show_shapes=True)"
   ],
   "outputs": [
    {
     "name": "stdout",
     "output_type": "stream",
     "text": [
      "Model: \"sequential\"\n",
      "_________________________________________________________________\n",
      " Layer (type)                Output Shape              Param #   \n",
      "=================================================================\n",
      " dropout (Dropout)           (None, 42)                0         \n",
      "                                                                 \n",
      " dense (Dense)               (None, 20)                860       \n",
      "                                                                 \n",
      " dropout_1 (Dropout)         (None, 20)                0         \n",
      "                                                                 \n",
      " dense_1 (Dense)             (None, 10)                210       \n",
      "                                                                 \n",
      " dense_2 (Dense)             (None, 4)                 44        \n",
      "                                                                 \n",
      "=================================================================\n",
      "Total params: 1,114\n",
      "Trainable params: 1,114\n",
      "Non-trainable params: 0\n",
      "_________________________________________________________________\n"
     ]
    }
   ],
   "execution_count": 8
  },
  {
   "cell_type": "code",
   "metadata": {
    "ExecuteTime": {
     "end_time": "2024-05-06T20:57:26.719788Z",
     "start_time": "2024-05-06T20:57:26.704827Z"
    }
   },
   "source": [
    "# モデルチェックポイントのコールバック\n",
    "cp_callback = tf.keras.callbacks.ModelCheckpoint(\n",
    "    model_save_path, verbose=1, save_weights_only=False)\n",
    "# 早期打ち切り用コールバック\n",
    "es_callback = tf.keras.callbacks.EarlyStopping(patience=20, verbose=1)"
   ],
   "outputs": [],
   "execution_count": 9
  },
  {
   "cell_type": "code",
   "metadata": {
    "ExecuteTime": {
     "end_time": "2024-05-06T20:57:26.735745Z",
     "start_time": "2024-05-06T20:57:26.720784Z"
    }
   },
   "source": [
    "# モデルコンパイル\n",
    "model.compile(\n",
    "    optimizer='adam',\n",
    "    loss='sparse_categorical_crossentropy',\n",
    "    metrics=['accuracy']\n",
    ")"
   ],
   "outputs": [],
   "execution_count": 10
  },
  {
   "cell_type": "markdown",
   "metadata": {},
   "source": [
    "# モデル訓練"
   ]
  },
  {
   "cell_type": "code",
   "metadata": {
    "scrolled": true,
    "ExecuteTime": {
     "end_time": "2024-05-06T20:57:48.377422Z",
     "start_time": "2024-05-06T20:57:26.736742Z"
    }
   },
   "source": [
    "model.fit(\n",
    "    X_train,\n",
    "    y_train,\n",
    "    epochs=1000,\n",
    "    batch_size=128,\n",
    "    validation_data=(X_test, y_test),\n",
    "    callbacks=[cp_callback, es_callback]\n",
    ")"
   ],
   "outputs": [
    {
     "name": "stdout",
     "output_type": "stream",
     "text": [
      "Epoch 1/1000\n",
      " 1/29 [>.............................] - ETA: 15s - loss: 1.3330 - accuracy: 0.4062\n",
      "Epoch 1: saving model to model/keypoint_classifier\\keypoint_classifier.hdf5\n",
      "29/29 [==============================] - 1s 11ms/step - loss: 1.3278 - accuracy: 0.3613 - val_loss: 1.2744 - val_accuracy: 0.4603\n",
      "Epoch 2/1000\n",
      " 1/29 [>.............................] - ETA: 0s - loss: 1.2836 - accuracy: 0.3828\n",
      "Epoch 2: saving model to model/keypoint_classifier\\keypoint_classifier.hdf5\n",
      "29/29 [==============================] - 0s 3ms/step - loss: 1.2675 - accuracy: 0.4064 - val_loss: 1.2096 - val_accuracy: 0.5940\n",
      "Epoch 3/1000\n",
      " 1/29 [>.............................] - ETA: 0s - loss: 1.2522 - accuracy: 0.3828\n",
      "Epoch 3: saving model to model/keypoint_classifier\\keypoint_classifier.hdf5\n",
      "29/29 [==============================] - 0s 3ms/step - loss: 1.2187 - accuracy: 0.4337 - val_loss: 1.1395 - val_accuracy: 0.6675\n",
      "Epoch 4/1000\n",
      " 1/29 [>.............................] - ETA: 0s - loss: 1.1656 - accuracy: 0.5000\n",
      "Epoch 4: saving model to model/keypoint_classifier\\keypoint_classifier.hdf5\n",
      "29/29 [==============================] - 0s 4ms/step - loss: 1.1590 - accuracy: 0.4858 - val_loss: 1.0586 - val_accuracy: 0.6850\n",
      "Epoch 5/1000\n",
      " 1/29 [>.............................] - ETA: 0s - loss: 1.1122 - accuracy: 0.4922\n",
      "Epoch 5: saving model to model/keypoint_classifier\\keypoint_classifier.hdf5\n",
      "29/29 [==============================] - 0s 4ms/step - loss: 1.1182 - accuracy: 0.4981 - val_loss: 0.9925 - val_accuracy: 0.7051\n",
      "Epoch 6/1000\n",
      " 1/29 [>.............................] - ETA: 0s - loss: 1.0944 - accuracy: 0.5000\n",
      "Epoch 6: saving model to model/keypoint_classifier\\keypoint_classifier.hdf5\n",
      "29/29 [==============================] - 0s 4ms/step - loss: 1.0831 - accuracy: 0.5195 - val_loss: 0.9289 - val_accuracy: 0.7193\n",
      "Epoch 7/1000\n",
      " 1/29 [>.............................] - ETA: 0s - loss: 1.0811 - accuracy: 0.4609\n",
      "Epoch 7: saving model to model/keypoint_classifier\\keypoint_classifier.hdf5\n",
      "29/29 [==============================] - 0s 3ms/step - loss: 1.0391 - accuracy: 0.5304 - val_loss: 0.8756 - val_accuracy: 0.7393\n",
      "Epoch 8/1000\n",
      " 1/29 [>.............................] - ETA: 0s - loss: 1.0637 - accuracy: 0.5078\n",
      "Epoch 8: saving model to model/keypoint_classifier\\keypoint_classifier.hdf5\n",
      "29/29 [==============================] - 0s 3ms/step - loss: 0.9926 - accuracy: 0.5510 - val_loss: 0.8202 - val_accuracy: 0.7485\n",
      "Epoch 9/1000\n",
      " 1/29 [>.............................] - ETA: 0s - loss: 1.0235 - accuracy: 0.5234\n",
      "Epoch 9: saving model to model/keypoint_classifier\\keypoint_classifier.hdf5\n",
      "29/29 [==============================] - 0s 3ms/step - loss: 0.9695 - accuracy: 0.5632 - val_loss: 0.7650 - val_accuracy: 0.7644\n",
      "Epoch 10/1000\n",
      " 1/29 [>.............................] - ETA: 0s - loss: 0.9535 - accuracy: 0.6094\n",
      "Epoch 10: saving model to model/keypoint_classifier\\keypoint_classifier.hdf5\n",
      "29/29 [==============================] - 0s 3ms/step - loss: 0.9211 - accuracy: 0.5897 - val_loss: 0.7138 - val_accuracy: 0.7820\n",
      "Epoch 11/1000\n",
      " 1/29 [>.............................] - ETA: 0s - loss: 0.8091 - accuracy: 0.6875\n",
      "Epoch 11: saving model to model/keypoint_classifier\\keypoint_classifier.hdf5\n",
      "29/29 [==============================] - 0s 4ms/step - loss: 0.8874 - accuracy: 0.6045 - val_loss: 0.6711 - val_accuracy: 0.8321\n",
      "Epoch 12/1000\n",
      " 1/29 [>.............................] - ETA: 0s - loss: 0.8329 - accuracy: 0.6719\n",
      "Epoch 12: saving model to model/keypoint_classifier\\keypoint_classifier.hdf5\n",
      "29/29 [==============================] - 0s 3ms/step - loss: 0.8691 - accuracy: 0.6242 - val_loss: 0.6365 - val_accuracy: 0.8555\n",
      "Epoch 13/1000\n",
      " 1/29 [>.............................] - ETA: 0s - loss: 0.8002 - accuracy: 0.6172\n",
      "Epoch 13: saving model to model/keypoint_classifier\\keypoint_classifier.hdf5\n",
      "29/29 [==============================] - 0s 3ms/step - loss: 0.8465 - accuracy: 0.6340 - val_loss: 0.6010 - val_accuracy: 0.8538\n",
      "Epoch 14/1000\n",
      " 1/29 [>.............................] - ETA: 0s - loss: 0.8172 - accuracy: 0.6562\n",
      "Epoch 14: saving model to model/keypoint_classifier\\keypoint_classifier.hdf5\n",
      "29/29 [==============================] - 0s 3ms/step - loss: 0.8247 - accuracy: 0.6393 - val_loss: 0.5701 - val_accuracy: 0.8605\n",
      "Epoch 15/1000\n",
      " 1/29 [>.............................] - ETA: 0s - loss: 0.7935 - accuracy: 0.6250\n",
      "Epoch 15: saving model to model/keypoint_classifier\\keypoint_classifier.hdf5\n",
      "29/29 [==============================] - 0s 4ms/step - loss: 0.8078 - accuracy: 0.6382 - val_loss: 0.5423 - val_accuracy: 0.8605\n",
      "Epoch 16/1000\n",
      " 1/29 [>.............................] - ETA: 0s - loss: 0.6962 - accuracy: 0.7031\n",
      "Epoch 16: saving model to model/keypoint_classifier\\keypoint_classifier.hdf5\n",
      "29/29 [==============================] - 0s 4ms/step - loss: 0.7921 - accuracy: 0.6585 - val_loss: 0.5192 - val_accuracy: 0.8647\n",
      "Epoch 17/1000\n",
      " 1/29 [>.............................] - ETA: 0s - loss: 0.9126 - accuracy: 0.5312\n",
      "Epoch 17: saving model to model/keypoint_classifier\\keypoint_classifier.hdf5\n",
      "29/29 [==============================] - 0s 4ms/step - loss: 0.7890 - accuracy: 0.6618 - val_loss: 0.4941 - val_accuracy: 0.8722\n",
      "Epoch 18/1000\n",
      " 1/29 [>.............................] - ETA: 0s - loss: 0.7314 - accuracy: 0.6953\n",
      "Epoch 18: saving model to model/keypoint_classifier\\keypoint_classifier.hdf5\n",
      "29/29 [==============================] - 0s 4ms/step - loss: 0.7585 - accuracy: 0.6763 - val_loss: 0.4765 - val_accuracy: 0.8755\n",
      "Epoch 19/1000\n",
      " 1/29 [>.............................] - ETA: 0s - loss: 0.8552 - accuracy: 0.6094\n",
      "Epoch 19: saving model to model/keypoint_classifier\\keypoint_classifier.hdf5\n",
      "29/29 [==============================] - 0s 4ms/step - loss: 0.7613 - accuracy: 0.6716 - val_loss: 0.4680 - val_accuracy: 0.8797\n",
      "Epoch 20/1000\n",
      " 1/29 [>.............................] - ETA: 0s - loss: 0.5904 - accuracy: 0.7734\n",
      "Epoch 20: saving model to model/keypoint_classifier\\keypoint_classifier.hdf5\n",
      "29/29 [==============================] - 0s 4ms/step - loss: 0.7267 - accuracy: 0.6989 - val_loss: 0.4471 - val_accuracy: 0.8922\n",
      "Epoch 21/1000\n",
      " 1/29 [>.............................] - ETA: 0s - loss: 0.6402 - accuracy: 0.7656\n",
      "Epoch 21: saving model to model/keypoint_classifier\\keypoint_classifier.hdf5\n",
      "29/29 [==============================] - 0s 4ms/step - loss: 0.7229 - accuracy: 0.6972 - val_loss: 0.4345 - val_accuracy: 0.8972\n",
      "Epoch 22/1000\n",
      "24/29 [=======================>......] - ETA: 0s - loss: 0.7114 - accuracy: 0.6924\n",
      "Epoch 22: saving model to model/keypoint_classifier\\keypoint_classifier.hdf5\n",
      "29/29 [==============================] - 0s 4ms/step - loss: 0.7052 - accuracy: 0.6967 - val_loss: 0.4217 - val_accuracy: 0.8964\n",
      "Epoch 23/1000\n",
      " 1/29 [>.............................] - ETA: 0s - loss: 0.6921 - accuracy: 0.6719\n",
      "Epoch 23: saving model to model/keypoint_classifier\\keypoint_classifier.hdf5\n",
      "29/29 [==============================] - 0s 4ms/step - loss: 0.7050 - accuracy: 0.7086 - val_loss: 0.4112 - val_accuracy: 0.9064\n",
      "Epoch 24/1000\n",
      " 1/29 [>.............................] - ETA: 0s - loss: 0.6906 - accuracy: 0.7031\n",
      "Epoch 24: saving model to model/keypoint_classifier\\keypoint_classifier.hdf5\n",
      "29/29 [==============================] - 0s 4ms/step - loss: 0.7029 - accuracy: 0.7067 - val_loss: 0.3999 - val_accuracy: 0.9223\n",
      "Epoch 25/1000\n",
      " 1/29 [>.............................] - ETA: 0s - loss: 0.8129 - accuracy: 0.6562\n",
      "Epoch 25: saving model to model/keypoint_classifier\\keypoint_classifier.hdf5\n",
      "29/29 [==============================] - 0s 4ms/step - loss: 0.6954 - accuracy: 0.7109 - val_loss: 0.3871 - val_accuracy: 0.9198\n",
      "Epoch 26/1000\n",
      " 1/29 [>.............................] - ETA: 0s - loss: 0.7150 - accuracy: 0.6562\n",
      "Epoch 26: saving model to model/keypoint_classifier\\keypoint_classifier.hdf5\n",
      "29/29 [==============================] - 0s 4ms/step - loss: 0.6661 - accuracy: 0.7212 - val_loss: 0.3811 - val_accuracy: 0.9265\n",
      "Epoch 27/1000\n",
      " 1/29 [>.............................] - ETA: 0s - loss: 0.7189 - accuracy: 0.6953\n",
      "Epoch 27: saving model to model/keypoint_classifier\\keypoint_classifier.hdf5\n",
      "29/29 [==============================] - 0s 3ms/step - loss: 0.6665 - accuracy: 0.7234 - val_loss: 0.3706 - val_accuracy: 0.9282\n",
      "Epoch 28/1000\n",
      " 1/29 [>.............................] - ETA: 0s - loss: 0.7347 - accuracy: 0.7188\n",
      "Epoch 28: saving model to model/keypoint_classifier\\keypoint_classifier.hdf5\n",
      "29/29 [==============================] - 0s 3ms/step - loss: 0.6817 - accuracy: 0.7120 - val_loss: 0.3688 - val_accuracy: 0.9323\n",
      "Epoch 29/1000\n",
      " 1/29 [>.............................] - ETA: 0s - loss: 0.6350 - accuracy: 0.7109\n",
      "Epoch 29: saving model to model/keypoint_classifier\\keypoint_classifier.hdf5\n",
      "29/29 [==============================] - 0s 4ms/step - loss: 0.6662 - accuracy: 0.7184 - val_loss: 0.3568 - val_accuracy: 0.9340\n",
      "Epoch 30/1000\n",
      " 1/29 [>.............................] - ETA: 0s - loss: 0.5609 - accuracy: 0.7891\n",
      "Epoch 30: saving model to model/keypoint_classifier\\keypoint_classifier.hdf5\n",
      "29/29 [==============================] - 0s 4ms/step - loss: 0.6562 - accuracy: 0.7276 - val_loss: 0.3576 - val_accuracy: 0.9240\n",
      "Epoch 31/1000\n",
      " 1/29 [>.............................] - ETA: 0s - loss: 0.6086 - accuracy: 0.7656\n",
      "Epoch 31: saving model to model/keypoint_classifier\\keypoint_classifier.hdf5\n",
      "29/29 [==============================] - 0s 4ms/step - loss: 0.6753 - accuracy: 0.7256 - val_loss: 0.3556 - val_accuracy: 0.9273\n",
      "Epoch 32/1000\n",
      "25/29 [========================>.....] - ETA: 0s - loss: 0.6502 - accuracy: 0.7369\n",
      "Epoch 32: saving model to model/keypoint_classifier\\keypoint_classifier.hdf5\n",
      "29/29 [==============================] - 0s 5ms/step - loss: 0.6502 - accuracy: 0.7362 - val_loss: 0.3444 - val_accuracy: 0.9332\n",
      "Epoch 33/1000\n",
      "28/29 [===========================>..] - ETA: 0s - loss: 0.6501 - accuracy: 0.7358\n",
      "Epoch 33: saving model to model/keypoint_classifier\\keypoint_classifier.hdf5\n",
      "29/29 [==============================] - 0s 4ms/step - loss: 0.6503 - accuracy: 0.7359 - val_loss: 0.3397 - val_accuracy: 0.9298\n",
      "Epoch 34/1000\n",
      "29/29 [==============================] - ETA: 0s - loss: 0.6342 - accuracy: 0.7432\n",
      "Epoch 34: saving model to model/keypoint_classifier\\keypoint_classifier.hdf5\n",
      "29/29 [==============================] - 0s 5ms/step - loss: 0.6342 - accuracy: 0.7432 - val_loss: 0.3329 - val_accuracy: 0.9332\n",
      "Epoch 35/1000\n",
      "18/29 [=================>............] - ETA: 0s - loss: 0.6265 - accuracy: 0.7478\n",
      "Epoch 35: saving model to model/keypoint_classifier\\keypoint_classifier.hdf5\n",
      "29/29 [==============================] - 0s 5ms/step - loss: 0.6334 - accuracy: 0.7404 - val_loss: 0.3215 - val_accuracy: 0.9390\n",
      "Epoch 36/1000\n",
      " 1/29 [>.............................] - ETA: 0s - loss: 0.6525 - accuracy: 0.7344\n",
      "Epoch 36: saving model to model/keypoint_classifier\\keypoint_classifier.hdf5\n",
      "29/29 [==============================] - 0s 4ms/step - loss: 0.6205 - accuracy: 0.7554 - val_loss: 0.3118 - val_accuracy: 0.9407\n",
      "Epoch 37/1000\n",
      " 1/29 [>.............................] - ETA: 0s - loss: 0.5505 - accuracy: 0.8125\n",
      "Epoch 37: saving model to model/keypoint_classifier\\keypoint_classifier.hdf5\n",
      "29/29 [==============================] - 0s 4ms/step - loss: 0.6199 - accuracy: 0.7482 - val_loss: 0.3125 - val_accuracy: 0.9365\n",
      "Epoch 38/1000\n",
      " 1/29 [>.............................] - ETA: 0s - loss: 0.4553 - accuracy: 0.8438\n",
      "Epoch 38: saving model to model/keypoint_classifier\\keypoint_classifier.hdf5\n",
      "29/29 [==============================] - 0s 4ms/step - loss: 0.6223 - accuracy: 0.7499 - val_loss: 0.3102 - val_accuracy: 0.9373\n",
      "Epoch 39/1000\n",
      " 1/29 [>.............................] - ETA: 0s - loss: 0.6236 - accuracy: 0.7578\n",
      "Epoch 39: saving model to model/keypoint_classifier\\keypoint_classifier.hdf5\n",
      "29/29 [==============================] - 0s 3ms/step - loss: 0.6040 - accuracy: 0.7568 - val_loss: 0.3084 - val_accuracy: 0.9357\n",
      "Epoch 40/1000\n",
      " 1/29 [>.............................] - ETA: 0s - loss: 0.6129 - accuracy: 0.7891\n",
      "Epoch 40: saving model to model/keypoint_classifier\\keypoint_classifier.hdf5\n",
      "29/29 [==============================] - 0s 3ms/step - loss: 0.6096 - accuracy: 0.7591 - val_loss: 0.3011 - val_accuracy: 0.9340\n",
      "Epoch 41/1000\n",
      " 1/29 [>.............................] - ETA: 0s - loss: 0.5671 - accuracy: 0.7734\n",
      "Epoch 41: saving model to model/keypoint_classifier\\keypoint_classifier.hdf5\n",
      "29/29 [==============================] - 0s 4ms/step - loss: 0.5972 - accuracy: 0.7643 - val_loss: 0.2996 - val_accuracy: 0.9340\n",
      "Epoch 42/1000\n",
      " 1/29 [>.............................] - ETA: 0s - loss: 0.5195 - accuracy: 0.7578\n",
      "Epoch 42: saving model to model/keypoint_classifier\\keypoint_classifier.hdf5\n",
      "29/29 [==============================] - 0s 4ms/step - loss: 0.6072 - accuracy: 0.7526 - val_loss: 0.2982 - val_accuracy: 0.9332\n",
      "Epoch 43/1000\n",
      " 1/29 [>.............................] - ETA: 0s - loss: 0.6586 - accuracy: 0.7656\n",
      "Epoch 43: saving model to model/keypoint_classifier\\keypoint_classifier.hdf5\n",
      "29/29 [==============================] - 0s 3ms/step - loss: 0.5951 - accuracy: 0.7613 - val_loss: 0.2991 - val_accuracy: 0.9298\n",
      "Epoch 44/1000\n",
      " 1/29 [>.............................] - ETA: 0s - loss: 0.5773 - accuracy: 0.7656\n",
      "Epoch 44: saving model to model/keypoint_classifier\\keypoint_classifier.hdf5\n",
      "29/29 [==============================] - 0s 3ms/step - loss: 0.5967 - accuracy: 0.7649 - val_loss: 0.2965 - val_accuracy: 0.9357\n",
      "Epoch 45/1000\n",
      " 1/29 [>.............................] - ETA: 0s - loss: 0.6263 - accuracy: 0.7031\n",
      "Epoch 45: saving model to model/keypoint_classifier\\keypoint_classifier.hdf5\n",
      "29/29 [==============================] - 0s 3ms/step - loss: 0.6029 - accuracy: 0.7613 - val_loss: 0.2851 - val_accuracy: 0.9407\n",
      "Epoch 46/1000\n",
      " 1/29 [>.............................] - ETA: 0s - loss: 0.5727 - accuracy: 0.7812\n",
      "Epoch 46: saving model to model/keypoint_classifier\\keypoint_classifier.hdf5\n",
      "29/29 [==============================] - 0s 3ms/step - loss: 0.5928 - accuracy: 0.7671 - val_loss: 0.2869 - val_accuracy: 0.9307\n",
      "Epoch 47/1000\n",
      " 1/29 [>.............................] - ETA: 0s - loss: 0.6296 - accuracy: 0.7344\n",
      "Epoch 47: saving model to model/keypoint_classifier\\keypoint_classifier.hdf5\n",
      "29/29 [==============================] - 0s 3ms/step - loss: 0.5958 - accuracy: 0.7660 - val_loss: 0.2826 - val_accuracy: 0.9332\n",
      "Epoch 48/1000\n",
      " 1/29 [>.............................] - ETA: 0s - loss: 0.4800 - accuracy: 0.8203\n",
      "Epoch 48: saving model to model/keypoint_classifier\\keypoint_classifier.hdf5\n",
      "29/29 [==============================] - 0s 3ms/step - loss: 0.5772 - accuracy: 0.7783 - val_loss: 0.2849 - val_accuracy: 0.9256\n",
      "Epoch 49/1000\n",
      " 1/29 [>.............................] - ETA: 0s - loss: 0.5571 - accuracy: 0.8047\n",
      "Epoch 49: saving model to model/keypoint_classifier\\keypoint_classifier.hdf5\n",
      "29/29 [==============================] - 0s 3ms/step - loss: 0.5957 - accuracy: 0.7663 - val_loss: 0.2886 - val_accuracy: 0.9282\n",
      "Epoch 50/1000\n",
      " 1/29 [>.............................] - ETA: 0s - loss: 0.5142 - accuracy: 0.8047\n",
      "Epoch 50: saving model to model/keypoint_classifier\\keypoint_classifier.hdf5\n",
      "29/29 [==============================] - 0s 4ms/step - loss: 0.5826 - accuracy: 0.7618 - val_loss: 0.2789 - val_accuracy: 0.9307\n",
      "Epoch 51/1000\n",
      " 1/29 [>.............................] - ETA: 0s - loss: 0.6117 - accuracy: 0.7422\n",
      "Epoch 51: saving model to model/keypoint_classifier\\keypoint_classifier.hdf5\n",
      "29/29 [==============================] - 0s 4ms/step - loss: 0.5670 - accuracy: 0.7777 - val_loss: 0.2721 - val_accuracy: 0.9307\n",
      "Epoch 52/1000\n",
      " 1/29 [>.............................] - ETA: 0s - loss: 0.5750 - accuracy: 0.7656\n",
      "Epoch 52: saving model to model/keypoint_classifier\\keypoint_classifier.hdf5\n",
      "29/29 [==============================] - 0s 4ms/step - loss: 0.5922 - accuracy: 0.7618 - val_loss: 0.2743 - val_accuracy: 0.9382\n",
      "Epoch 53/1000\n",
      " 1/29 [>.............................] - ETA: 0s - loss: 0.6686 - accuracy: 0.7422\n",
      "Epoch 53: saving model to model/keypoint_classifier\\keypoint_classifier.hdf5\n",
      "29/29 [==============================] - 0s 4ms/step - loss: 0.5888 - accuracy: 0.7705 - val_loss: 0.2808 - val_accuracy: 0.9357\n",
      "Epoch 54/1000\n",
      " 1/29 [>.............................] - ETA: 0s - loss: 0.5784 - accuracy: 0.7812\n",
      "Epoch 54: saving model to model/keypoint_classifier\\keypoint_classifier.hdf5\n",
      "29/29 [==============================] - 0s 3ms/step - loss: 0.5911 - accuracy: 0.7755 - val_loss: 0.2813 - val_accuracy: 0.9348\n",
      "Epoch 55/1000\n",
      " 1/29 [>.............................] - ETA: 0s - loss: 0.5820 - accuracy: 0.7734\n",
      "Epoch 55: saving model to model/keypoint_classifier\\keypoint_classifier.hdf5\n",
      "29/29 [==============================] - 0s 3ms/step - loss: 0.5748 - accuracy: 0.7733 - val_loss: 0.2752 - val_accuracy: 0.9315\n",
      "Epoch 56/1000\n",
      " 1/29 [>.............................] - ETA: 0s - loss: 0.4367 - accuracy: 0.8594\n",
      "Epoch 56: saving model to model/keypoint_classifier\\keypoint_classifier.hdf5\n",
      "29/29 [==============================] - 0s 3ms/step - loss: 0.5600 - accuracy: 0.7816 - val_loss: 0.2746 - val_accuracy: 0.9323\n",
      "Epoch 57/1000\n",
      " 1/29 [>.............................] - ETA: 0s - loss: 0.4991 - accuracy: 0.7969\n",
      "Epoch 57: saving model to model/keypoint_classifier\\keypoint_classifier.hdf5\n",
      "29/29 [==============================] - 0s 3ms/step - loss: 0.5660 - accuracy: 0.7721 - val_loss: 0.2654 - val_accuracy: 0.9348\n",
      "Epoch 58/1000\n",
      " 1/29 [>.............................] - ETA: 0s - loss: 0.6375 - accuracy: 0.7734\n",
      "Epoch 58: saving model to model/keypoint_classifier\\keypoint_classifier.hdf5\n",
      "29/29 [==============================] - 0s 3ms/step - loss: 0.5594 - accuracy: 0.7808 - val_loss: 0.2631 - val_accuracy: 0.9365\n",
      "Epoch 59/1000\n",
      " 1/29 [>.............................] - ETA: 0s - loss: 0.6058 - accuracy: 0.7891\n",
      "Epoch 59: saving model to model/keypoint_classifier\\keypoint_classifier.hdf5\n",
      "29/29 [==============================] - 0s 4ms/step - loss: 0.5725 - accuracy: 0.7727 - val_loss: 0.2700 - val_accuracy: 0.9332\n",
      "Epoch 60/1000\n",
      " 1/29 [>.............................] - ETA: 0s - loss: 0.5796 - accuracy: 0.7578\n",
      "Epoch 60: saving model to model/keypoint_classifier\\keypoint_classifier.hdf5\n",
      "29/29 [==============================] - 0s 3ms/step - loss: 0.5645 - accuracy: 0.7791 - val_loss: 0.2615 - val_accuracy: 0.9332\n",
      "Epoch 61/1000\n",
      " 1/29 [>.............................] - ETA: 0s - loss: 0.4965 - accuracy: 0.8281\n",
      "Epoch 61: saving model to model/keypoint_classifier\\keypoint_classifier.hdf5\n",
      "29/29 [==============================] - 0s 4ms/step - loss: 0.5523 - accuracy: 0.7875 - val_loss: 0.2549 - val_accuracy: 0.9323\n",
      "Epoch 62/1000\n",
      " 1/29 [>.............................] - ETA: 0s - loss: 0.4791 - accuracy: 0.8125\n",
      "Epoch 62: saving model to model/keypoint_classifier\\keypoint_classifier.hdf5\n",
      "29/29 [==============================] - 0s 4ms/step - loss: 0.5650 - accuracy: 0.7838 - val_loss: 0.2611 - val_accuracy: 0.9365\n",
      "Epoch 63/1000\n",
      " 1/29 [>.............................] - ETA: 0s - loss: 0.5431 - accuracy: 0.8438\n",
      "Epoch 63: saving model to model/keypoint_classifier\\keypoint_classifier.hdf5\n",
      "29/29 [==============================] - 0s 4ms/step - loss: 0.5664 - accuracy: 0.7836 - val_loss: 0.2624 - val_accuracy: 0.9365\n",
      "Epoch 64/1000\n",
      " 1/29 [>.............................] - ETA: 0s - loss: 0.5916 - accuracy: 0.7656\n",
      "Epoch 64: saving model to model/keypoint_classifier\\keypoint_classifier.hdf5\n",
      "29/29 [==============================] - 0s 4ms/step - loss: 0.5590 - accuracy: 0.7797 - val_loss: 0.2552 - val_accuracy: 0.9340\n",
      "Epoch 65/1000\n",
      " 1/29 [>.............................] - ETA: 0s - loss: 0.4702 - accuracy: 0.8672\n",
      "Epoch 65: saving model to model/keypoint_classifier\\keypoint_classifier.hdf5\n",
      "29/29 [==============================] - 0s 4ms/step - loss: 0.5706 - accuracy: 0.7802 - val_loss: 0.2511 - val_accuracy: 0.9365\n",
      "Epoch 66/1000\n",
      " 1/29 [>.............................] - ETA: 0s - loss: 0.4762 - accuracy: 0.8125\n",
      "Epoch 66: saving model to model/keypoint_classifier\\keypoint_classifier.hdf5\n",
      "29/29 [==============================] - 0s 4ms/step - loss: 0.5367 - accuracy: 0.7933 - val_loss: 0.2481 - val_accuracy: 0.9332\n",
      "Epoch 67/1000\n",
      " 1/29 [>.............................] - ETA: 0s - loss: 0.5311 - accuracy: 0.7891\n",
      "Epoch 67: saving model to model/keypoint_classifier\\keypoint_classifier.hdf5\n",
      "29/29 [==============================] - 0s 4ms/step - loss: 0.5454 - accuracy: 0.7942 - val_loss: 0.2443 - val_accuracy: 0.9440\n",
      "Epoch 68/1000\n",
      "29/29 [==============================] - ETA: 0s - loss: 0.5574 - accuracy: 0.7827\n",
      "Epoch 68: saving model to model/keypoint_classifier\\keypoint_classifier.hdf5\n",
      "29/29 [==============================] - 0s 4ms/step - loss: 0.5574 - accuracy: 0.7827 - val_loss: 0.2452 - val_accuracy: 0.9415\n",
      "Epoch 69/1000\n",
      "25/29 [========================>.....] - ETA: 0s - loss: 0.5667 - accuracy: 0.7866\n",
      "Epoch 69: saving model to model/keypoint_classifier\\keypoint_classifier.hdf5\n",
      "29/29 [==============================] - 0s 4ms/step - loss: 0.5624 - accuracy: 0.7875 - val_loss: 0.2477 - val_accuracy: 0.9424\n",
      "Epoch 70/1000\n",
      " 1/29 [>.............................] - ETA: 0s - loss: 0.6666 - accuracy: 0.7344\n",
      "Epoch 70: saving model to model/keypoint_classifier\\keypoint_classifier.hdf5\n",
      "29/29 [==============================] - 0s 4ms/step - loss: 0.5486 - accuracy: 0.7861 - val_loss: 0.2514 - val_accuracy: 0.9398\n",
      "Epoch 71/1000\n",
      "25/29 [========================>.....] - ETA: 0s - loss: 0.5507 - accuracy: 0.7900\n",
      "Epoch 71: saving model to model/keypoint_classifier\\keypoint_classifier.hdf5\n",
      "29/29 [==============================] - 0s 6ms/step - loss: 0.5454 - accuracy: 0.7914 - val_loss: 0.2477 - val_accuracy: 0.9449\n",
      "Epoch 72/1000\n",
      "21/29 [====================>.........] - ETA: 0s - loss: 0.5285 - accuracy: 0.7958\n",
      "Epoch 72: saving model to model/keypoint_classifier\\keypoint_classifier.hdf5\n",
      "29/29 [==============================] - 0s 5ms/step - loss: 0.5346 - accuracy: 0.7975 - val_loss: 0.2481 - val_accuracy: 0.9407\n",
      "Epoch 73/1000\n",
      " 1/29 [>.............................] - ETA: 0s - loss: 0.7226 - accuracy: 0.7422\n",
      "Epoch 73: saving model to model/keypoint_classifier\\keypoint_classifier.hdf5\n",
      "29/29 [==============================] - 0s 4ms/step - loss: 0.5508 - accuracy: 0.7900 - val_loss: 0.2468 - val_accuracy: 0.9398\n",
      "Epoch 74/1000\n",
      "27/29 [==========================>...] - ETA: 0s - loss: 0.5322 - accuracy: 0.7920\n",
      "Epoch 74: saving model to model/keypoint_classifier\\keypoint_classifier.hdf5\n",
      "29/29 [==============================] - 0s 5ms/step - loss: 0.5370 - accuracy: 0.7916 - val_loss: 0.2477 - val_accuracy: 0.9407\n",
      "Epoch 75/1000\n",
      "23/29 [======================>.......] - ETA: 0s - loss: 0.5132 - accuracy: 0.8135\n",
      "Epoch 75: saving model to model/keypoint_classifier\\keypoint_classifier.hdf5\n",
      "29/29 [==============================] - 0s 5ms/step - loss: 0.5186 - accuracy: 0.8100 - val_loss: 0.2451 - val_accuracy: 0.9432\n",
      "Epoch 76/1000\n",
      " 1/29 [>.............................] - ETA: 0s - loss: 0.4630 - accuracy: 0.8359\n",
      "Epoch 76: saving model to model/keypoint_classifier\\keypoint_classifier.hdf5\n",
      "29/29 [==============================] - 0s 4ms/step - loss: 0.5354 - accuracy: 0.7919 - val_loss: 0.2376 - val_accuracy: 0.9390\n",
      "Epoch 77/1000\n",
      " 1/29 [>.............................] - ETA: 0s - loss: 0.5255 - accuracy: 0.8438\n",
      "Epoch 77: saving model to model/keypoint_classifier\\keypoint_classifier.hdf5\n",
      "29/29 [==============================] - 0s 4ms/step - loss: 0.5416 - accuracy: 0.7919 - val_loss: 0.2386 - val_accuracy: 0.9449\n",
      "Epoch 78/1000\n",
      " 1/29 [>.............................] - ETA: 0s - loss: 0.5857 - accuracy: 0.7266\n",
      "Epoch 78: saving model to model/keypoint_classifier\\keypoint_classifier.hdf5\n",
      "29/29 [==============================] - 0s 4ms/step - loss: 0.5150 - accuracy: 0.7942 - val_loss: 0.2361 - val_accuracy: 0.9432\n",
      "Epoch 79/1000\n",
      "27/29 [==========================>...] - ETA: 0s - loss: 0.5407 - accuracy: 0.7922\n",
      "Epoch 79: saving model to model/keypoint_classifier\\keypoint_classifier.hdf5\n",
      "29/29 [==============================] - 0s 4ms/step - loss: 0.5397 - accuracy: 0.7925 - val_loss: 0.2397 - val_accuracy: 0.9424\n",
      "Epoch 80/1000\n",
      "18/29 [=================>............] - ETA: 0s - loss: 0.5344 - accuracy: 0.7891\n",
      "Epoch 80: saving model to model/keypoint_classifier\\keypoint_classifier.hdf5\n",
      "29/29 [==============================] - 0s 5ms/step - loss: 0.5358 - accuracy: 0.7905 - val_loss: 0.2358 - val_accuracy: 0.9424\n",
      "Epoch 81/1000\n",
      " 1/29 [>.............................] - ETA: 0s - loss: 0.4379 - accuracy: 0.7969\n",
      "Epoch 81: saving model to model/keypoint_classifier\\keypoint_classifier.hdf5\n",
      "29/29 [==============================] - 0s 4ms/step - loss: 0.5362 - accuracy: 0.7953 - val_loss: 0.2363 - val_accuracy: 0.9424\n",
      "Epoch 82/1000\n",
      " 1/29 [>.............................] - ETA: 0s - loss: 0.4717 - accuracy: 0.8203\n",
      "Epoch 82: saving model to model/keypoint_classifier\\keypoint_classifier.hdf5\n",
      "29/29 [==============================] - 0s 4ms/step - loss: 0.5197 - accuracy: 0.8067 - val_loss: 0.2365 - val_accuracy: 0.9440\n",
      "Epoch 83/1000\n",
      " 1/29 [>.............................] - ETA: 0s - loss: 0.4892 - accuracy: 0.8281\n",
      "Epoch 83: saving model to model/keypoint_classifier\\keypoint_classifier.hdf5\n",
      "29/29 [==============================] - 0s 4ms/step - loss: 0.5258 - accuracy: 0.8042 - val_loss: 0.2375 - val_accuracy: 0.9432\n",
      "Epoch 84/1000\n",
      " 1/29 [>.............................] - ETA: 0s - loss: 0.5639 - accuracy: 0.7812\n",
      "Epoch 84: saving model to model/keypoint_classifier\\keypoint_classifier.hdf5\n",
      "29/29 [==============================] - 0s 3ms/step - loss: 0.5365 - accuracy: 0.7964 - val_loss: 0.2384 - val_accuracy: 0.9440\n",
      "Epoch 85/1000\n",
      " 1/29 [>.............................] - ETA: 0s - loss: 0.5480 - accuracy: 0.7969\n",
      "Epoch 85: saving model to model/keypoint_classifier\\keypoint_classifier.hdf5\n",
      "29/29 [==============================] - 0s 3ms/step - loss: 0.5335 - accuracy: 0.7908 - val_loss: 0.2330 - val_accuracy: 0.9415\n",
      "Epoch 86/1000\n",
      "28/29 [===========================>..] - ETA: 0s - loss: 0.5248 - accuracy: 0.8008\n",
      "Epoch 86: saving model to model/keypoint_classifier\\keypoint_classifier.hdf5\n",
      "29/29 [==============================] - 0s 5ms/step - loss: 0.5241 - accuracy: 0.8011 - val_loss: 0.2300 - val_accuracy: 0.9440\n",
      "Epoch 87/1000\n",
      "26/29 [=========================>....] - ETA: 0s - loss: 0.5101 - accuracy: 0.8131\n",
      "Epoch 87: saving model to model/keypoint_classifier\\keypoint_classifier.hdf5\n",
      "29/29 [==============================] - 0s 5ms/step - loss: 0.5121 - accuracy: 0.8111 - val_loss: 0.2223 - val_accuracy: 0.9432\n",
      "Epoch 88/1000\n",
      " 1/29 [>.............................] - ETA: 0s - loss: 0.6382 - accuracy: 0.7656\n",
      "Epoch 88: saving model to model/keypoint_classifier\\keypoint_classifier.hdf5\n",
      "29/29 [==============================] - 0s 4ms/step - loss: 0.5063 - accuracy: 0.8042 - val_loss: 0.2261 - val_accuracy: 0.9457\n",
      "Epoch 89/1000\n",
      " 1/29 [>.............................] - ETA: 0s - loss: 0.5978 - accuracy: 0.7344\n",
      "Epoch 89: saving model to model/keypoint_classifier\\keypoint_classifier.hdf5\n",
      "29/29 [==============================] - 0s 3ms/step - loss: 0.5143 - accuracy: 0.7964 - val_loss: 0.2293 - val_accuracy: 0.9415\n",
      "Epoch 90/1000\n",
      " 1/29 [>.............................] - ETA: 0s - loss: 0.5143 - accuracy: 0.7734\n",
      "Epoch 90: saving model to model/keypoint_classifier\\keypoint_classifier.hdf5\n",
      "29/29 [==============================] - 0s 3ms/step - loss: 0.5447 - accuracy: 0.8003 - val_loss: 0.2253 - val_accuracy: 0.9457\n",
      "Epoch 91/1000\n",
      " 1/29 [>.............................] - ETA: 0s - loss: 0.5823 - accuracy: 0.7891\n",
      "Epoch 91: saving model to model/keypoint_classifier\\keypoint_classifier.hdf5\n",
      "29/29 [==============================] - 0s 3ms/step - loss: 0.5141 - accuracy: 0.8014 - val_loss: 0.2230 - val_accuracy: 0.9507\n",
      "Epoch 92/1000\n",
      " 1/29 [>.............................] - ETA: 0s - loss: 0.3986 - accuracy: 0.8672\n",
      "Epoch 92: saving model to model/keypoint_classifier\\keypoint_classifier.hdf5\n",
      "29/29 [==============================] - 0s 3ms/step - loss: 0.5247 - accuracy: 0.8014 - val_loss: 0.2254 - val_accuracy: 0.9465\n",
      "Epoch 93/1000\n",
      " 1/29 [>.............................] - ETA: 0s - loss: 0.5952 - accuracy: 0.7656\n",
      "Epoch 93: saving model to model/keypoint_classifier\\keypoint_classifier.hdf5\n",
      "29/29 [==============================] - 0s 3ms/step - loss: 0.5040 - accuracy: 0.8047 - val_loss: 0.2267 - val_accuracy: 0.9490\n",
      "Epoch 94/1000\n",
      " 1/29 [>.............................] - ETA: 0s - loss: 0.4200 - accuracy: 0.8438\n",
      "Epoch 94: saving model to model/keypoint_classifier\\keypoint_classifier.hdf5\n",
      "29/29 [==============================] - 0s 3ms/step - loss: 0.5325 - accuracy: 0.8050 - val_loss: 0.2252 - val_accuracy: 0.9474\n",
      "Epoch 95/1000\n",
      " 1/29 [>.............................] - ETA: 0s - loss: 0.5027 - accuracy: 0.8125\n",
      "Epoch 95: saving model to model/keypoint_classifier\\keypoint_classifier.hdf5\n",
      "29/29 [==============================] - 0s 4ms/step - loss: 0.5056 - accuracy: 0.8064 - val_loss: 0.2217 - val_accuracy: 0.9457\n",
      "Epoch 96/1000\n",
      " 1/29 [>.............................] - ETA: 0s - loss: 0.6281 - accuracy: 0.7656\n",
      "Epoch 96: saving model to model/keypoint_classifier\\keypoint_classifier.hdf5\n",
      "29/29 [==============================] - 0s 3ms/step - loss: 0.5113 - accuracy: 0.8006 - val_loss: 0.2245 - val_accuracy: 0.9432\n",
      "Epoch 97/1000\n",
      " 1/29 [>.............................] - ETA: 0s - loss: 0.5642 - accuracy: 0.7812\n",
      "Epoch 97: saving model to model/keypoint_classifier\\keypoint_classifier.hdf5\n",
      "29/29 [==============================] - 0s 4ms/step - loss: 0.5298 - accuracy: 0.8022 - val_loss: 0.2218 - val_accuracy: 0.9507\n",
      "Epoch 98/1000\n",
      " 1/29 [>.............................] - ETA: 0s - loss: 0.5598 - accuracy: 0.7969\n",
      "Epoch 98: saving model to model/keypoint_classifier\\keypoint_classifier.hdf5\n",
      "29/29 [==============================] - 0s 3ms/step - loss: 0.5185 - accuracy: 0.8022 - val_loss: 0.2190 - val_accuracy: 0.9524\n",
      "Epoch 99/1000\n",
      " 1/29 [>.............................] - ETA: 0s - loss: 0.4225 - accuracy: 0.8125\n",
      "Epoch 99: saving model to model/keypoint_classifier\\keypoint_classifier.hdf5\n",
      "29/29 [==============================] - 0s 4ms/step - loss: 0.5303 - accuracy: 0.8019 - val_loss: 0.2191 - val_accuracy: 0.9541\n",
      "Epoch 100/1000\n",
      " 1/29 [>.............................] - ETA: 0s - loss: 0.4668 - accuracy: 0.8047\n",
      "Epoch 100: saving model to model/keypoint_classifier\\keypoint_classifier.hdf5\n",
      "29/29 [==============================] - 0s 3ms/step - loss: 0.5248 - accuracy: 0.8003 - val_loss: 0.2261 - val_accuracy: 0.9482\n",
      "Epoch 101/1000\n",
      " 1/29 [>.............................] - ETA: 0s - loss: 0.5544 - accuracy: 0.8047\n",
      "Epoch 101: saving model to model/keypoint_classifier\\keypoint_classifier.hdf5\n",
      "29/29 [==============================] - 0s 4ms/step - loss: 0.5218 - accuracy: 0.8036 - val_loss: 0.2229 - val_accuracy: 0.9524\n",
      "Epoch 102/1000\n",
      " 1/29 [>.............................] - ETA: 0s - loss: 0.5102 - accuracy: 0.7422\n",
      "Epoch 102: saving model to model/keypoint_classifier\\keypoint_classifier.hdf5\n",
      "29/29 [==============================] - 0s 5ms/step - loss: 0.5114 - accuracy: 0.7978 - val_loss: 0.2209 - val_accuracy: 0.9474\n",
      "Epoch 103/1000\n",
      "25/29 [========================>.....] - ETA: 0s - loss: 0.5135 - accuracy: 0.8069\n",
      "Epoch 103: saving model to model/keypoint_classifier\\keypoint_classifier.hdf5\n",
      "29/29 [==============================] - 0s 4ms/step - loss: 0.5144 - accuracy: 0.8042 - val_loss: 0.2220 - val_accuracy: 0.9465\n",
      "Epoch 104/1000\n",
      " 1/29 [>.............................] - ETA: 0s - loss: 0.3864 - accuracy: 0.8438\n",
      "Epoch 104: saving model to model/keypoint_classifier\\keypoint_classifier.hdf5\n",
      "29/29 [==============================] - 0s 4ms/step - loss: 0.5215 - accuracy: 0.7978 - val_loss: 0.2239 - val_accuracy: 0.9499\n",
      "Epoch 105/1000\n",
      " 1/29 [>.............................] - ETA: 0s - loss: 0.4164 - accuracy: 0.8047\n",
      "Epoch 105: saving model to model/keypoint_classifier\\keypoint_classifier.hdf5\n",
      "29/29 [==============================] - 0s 4ms/step - loss: 0.5268 - accuracy: 0.7975 - val_loss: 0.2252 - val_accuracy: 0.9482\n",
      "Epoch 106/1000\n",
      " 1/29 [>.............................] - ETA: 0s - loss: 0.4811 - accuracy: 0.8203\n",
      "Epoch 106: saving model to model/keypoint_classifier\\keypoint_classifier.hdf5\n",
      "29/29 [==============================] - 0s 4ms/step - loss: 0.5308 - accuracy: 0.7953 - val_loss: 0.2257 - val_accuracy: 0.9482\n",
      "Epoch 107/1000\n",
      " 1/29 [>.............................] - ETA: 0s - loss: 0.6580 - accuracy: 0.7500\n",
      "Epoch 107: saving model to model/keypoint_classifier\\keypoint_classifier.hdf5\n",
      "29/29 [==============================] - 0s 3ms/step - loss: 0.4949 - accuracy: 0.8100 - val_loss: 0.2214 - val_accuracy: 0.9465\n",
      "Epoch 108/1000\n",
      " 1/29 [>.............................] - ETA: 0s - loss: 0.3528 - accuracy: 0.8828\n",
      "Epoch 108: saving model to model/keypoint_classifier\\keypoint_classifier.hdf5\n",
      "29/29 [==============================] - 0s 4ms/step - loss: 0.5069 - accuracy: 0.8067 - val_loss: 0.2201 - val_accuracy: 0.9515\n",
      "Epoch 109/1000\n",
      " 1/29 [>.............................] - ETA: 0s - loss: 0.4915 - accuracy: 0.8203\n",
      "Epoch 109: saving model to model/keypoint_classifier\\keypoint_classifier.hdf5\n",
      "29/29 [==============================] - 0s 3ms/step - loss: 0.5142 - accuracy: 0.8056 - val_loss: 0.2213 - val_accuracy: 0.9532\n",
      "Epoch 110/1000\n",
      " 1/29 [>.............................] - ETA: 0s - loss: 0.4484 - accuracy: 0.8047\n",
      "Epoch 110: saving model to model/keypoint_classifier\\keypoint_classifier.hdf5\n",
      "29/29 [==============================] - 0s 3ms/step - loss: 0.5227 - accuracy: 0.7986 - val_loss: 0.2196 - val_accuracy: 0.9507\n",
      "Epoch 111/1000\n",
      " 1/29 [>.............................] - ETA: 0s - loss: 0.4972 - accuracy: 0.7969\n",
      "Epoch 111: saving model to model/keypoint_classifier\\keypoint_classifier.hdf5\n",
      "29/29 [==============================] - 0s 3ms/step - loss: 0.5315 - accuracy: 0.8028 - val_loss: 0.2179 - val_accuracy: 0.9507\n",
      "Epoch 112/1000\n",
      " 1/29 [>.............................] - ETA: 0s - loss: 0.4479 - accuracy: 0.8359\n",
      "Epoch 112: saving model to model/keypoint_classifier\\keypoint_classifier.hdf5\n",
      "29/29 [==============================] - 0s 3ms/step - loss: 0.4838 - accuracy: 0.8156 - val_loss: 0.2200 - val_accuracy: 0.9515\n",
      "Epoch 113/1000\n",
      " 1/29 [>.............................] - ETA: 0s - loss: 0.7035 - accuracy: 0.8047\n",
      "Epoch 113: saving model to model/keypoint_classifier\\keypoint_classifier.hdf5\n",
      "29/29 [==============================] - 0s 3ms/step - loss: 0.5105 - accuracy: 0.8114 - val_loss: 0.2139 - val_accuracy: 0.9524\n",
      "Epoch 114/1000\n",
      " 1/29 [>.............................] - ETA: 0s - loss: 0.4355 - accuracy: 0.8359\n",
      "Epoch 114: saving model to model/keypoint_classifier\\keypoint_classifier.hdf5\n",
      "29/29 [==============================] - 0s 3ms/step - loss: 0.5030 - accuracy: 0.8045 - val_loss: 0.2121 - val_accuracy: 0.9549\n",
      "Epoch 115/1000\n",
      " 1/29 [>.............................] - ETA: 0s - loss: 0.4584 - accuracy: 0.8438\n",
      "Epoch 115: saving model to model/keypoint_classifier\\keypoint_classifier.hdf5\n",
      "29/29 [==============================] - 0s 3ms/step - loss: 0.4728 - accuracy: 0.8231 - val_loss: 0.2117 - val_accuracy: 0.9524\n",
      "Epoch 116/1000\n",
      " 1/29 [>.............................] - ETA: 0s - loss: 0.6757 - accuracy: 0.7500\n",
      "Epoch 116: saving model to model/keypoint_classifier\\keypoint_classifier.hdf5\n",
      "29/29 [==============================] - 0s 3ms/step - loss: 0.5068 - accuracy: 0.8156 - val_loss: 0.2065 - val_accuracy: 0.9549\n",
      "Epoch 117/1000\n",
      " 1/29 [>.............................] - ETA: 0s - loss: 0.5833 - accuracy: 0.7734\n",
      "Epoch 117: saving model to model/keypoint_classifier\\keypoint_classifier.hdf5\n",
      "29/29 [==============================] - 0s 4ms/step - loss: 0.5072 - accuracy: 0.8162 - val_loss: 0.2091 - val_accuracy: 0.9515\n",
      "Epoch 118/1000\n",
      " 1/29 [>.............................] - ETA: 0s - loss: 0.5422 - accuracy: 0.8125\n",
      "Epoch 118: saving model to model/keypoint_classifier\\keypoint_classifier.hdf5\n",
      "29/29 [==============================] - 0s 3ms/step - loss: 0.4952 - accuracy: 0.8117 - val_loss: 0.2093 - val_accuracy: 0.9524\n",
      "Epoch 119/1000\n",
      " 1/29 [>.............................] - ETA: 0s - loss: 0.6030 - accuracy: 0.7812\n",
      "Epoch 119: saving model to model/keypoint_classifier\\keypoint_classifier.hdf5\n",
      "29/29 [==============================] - 0s 3ms/step - loss: 0.5083 - accuracy: 0.8008 - val_loss: 0.2095 - val_accuracy: 0.9549\n",
      "Epoch 120/1000\n",
      " 1/29 [>.............................] - ETA: 0s - loss: 0.5981 - accuracy: 0.7500\n",
      "Epoch 120: saving model to model/keypoint_classifier\\keypoint_classifier.hdf5\n",
      "29/29 [==============================] - 0s 3ms/step - loss: 0.4882 - accuracy: 0.8220 - val_loss: 0.2128 - val_accuracy: 0.9524\n",
      "Epoch 121/1000\n",
      " 1/29 [>.............................] - ETA: 0s - loss: 0.5307 - accuracy: 0.8125\n",
      "Epoch 121: saving model to model/keypoint_classifier\\keypoint_classifier.hdf5\n",
      "29/29 [==============================] - 0s 4ms/step - loss: 0.5119 - accuracy: 0.8086 - val_loss: 0.2126 - val_accuracy: 0.9524\n",
      "Epoch 122/1000\n",
      "23/29 [======================>.......] - ETA: 0s - loss: 0.4961 - accuracy: 0.8108\n",
      "Epoch 122: saving model to model/keypoint_classifier\\keypoint_classifier.hdf5\n",
      "29/29 [==============================] - 0s 6ms/step - loss: 0.4868 - accuracy: 0.8136 - val_loss: 0.2204 - val_accuracy: 0.9515\n",
      "Epoch 123/1000\n",
      "27/29 [==========================>...] - ETA: 0s - loss: 0.4856 - accuracy: 0.8137\n",
      "Epoch 123: saving model to model/keypoint_classifier\\keypoint_classifier.hdf5\n",
      "29/29 [==============================] - 0s 5ms/step - loss: 0.4821 - accuracy: 0.8153 - val_loss: 0.2146 - val_accuracy: 0.9507\n",
      "Epoch 124/1000\n",
      " 1/29 [>.............................] - ETA: 0s - loss: 0.4445 - accuracy: 0.8516\n",
      "Epoch 124: saving model to model/keypoint_classifier\\keypoint_classifier.hdf5\n",
      "29/29 [==============================] - 0s 4ms/step - loss: 0.4908 - accuracy: 0.8100 - val_loss: 0.2067 - val_accuracy: 0.9549\n",
      "Epoch 125/1000\n",
      "24/29 [=======================>......] - ETA: 0s - loss: 0.4954 - accuracy: 0.8092\n",
      "Epoch 125: saving model to model/keypoint_classifier\\keypoint_classifier.hdf5\n",
      "29/29 [==============================] - 0s 6ms/step - loss: 0.4904 - accuracy: 0.8120 - val_loss: 0.2070 - val_accuracy: 0.9574\n",
      "Epoch 126/1000\n",
      " 1/29 [>.............................] - ETA: 0s - loss: 0.5175 - accuracy: 0.8203\n",
      "Epoch 126: saving model to model/keypoint_classifier\\keypoint_classifier.hdf5\n",
      "29/29 [==============================] - 0s 4ms/step - loss: 0.4951 - accuracy: 0.8111 - val_loss: 0.2024 - val_accuracy: 0.9532\n",
      "Epoch 127/1000\n",
      "24/29 [=======================>......] - ETA: 0s - loss: 0.4897 - accuracy: 0.8122\n",
      "Epoch 127: saving model to model/keypoint_classifier\\keypoint_classifier.hdf5\n",
      "29/29 [==============================] - 0s 5ms/step - loss: 0.4917 - accuracy: 0.8139 - val_loss: 0.2034 - val_accuracy: 0.9574\n",
      "Epoch 128/1000\n",
      "29/29 [==============================] - ETA: 0s - loss: 0.4926 - accuracy: 0.8120\n",
      "Epoch 128: saving model to model/keypoint_classifier\\keypoint_classifier.hdf5\n",
      "29/29 [==============================] - 0s 4ms/step - loss: 0.4926 - accuracy: 0.8120 - val_loss: 0.2055 - val_accuracy: 0.9532\n",
      "Epoch 129/1000\n",
      " 1/29 [>.............................] - ETA: 0s - loss: 0.5176 - accuracy: 0.7812\n",
      "Epoch 129: saving model to model/keypoint_classifier\\keypoint_classifier.hdf5\n",
      "29/29 [==============================] - 0s 4ms/step - loss: 0.4964 - accuracy: 0.8111 - val_loss: 0.2154 - val_accuracy: 0.9490\n",
      "Epoch 130/1000\n",
      "28/29 [===========================>..] - ETA: 0s - loss: 0.4731 - accuracy: 0.8198\n",
      "Epoch 130: saving model to model/keypoint_classifier\\keypoint_classifier.hdf5\n",
      "29/29 [==============================] - 0s 5ms/step - loss: 0.4730 - accuracy: 0.8198 - val_loss: 0.2101 - val_accuracy: 0.9524\n",
      "Epoch 131/1000\n",
      "27/29 [==========================>...] - ETA: 0s - loss: 0.4921 - accuracy: 0.8142\n",
      "Epoch 131: saving model to model/keypoint_classifier\\keypoint_classifier.hdf5\n",
      "29/29 [==============================] - 0s 5ms/step - loss: 0.4890 - accuracy: 0.8150 - val_loss: 0.2058 - val_accuracy: 0.9532\n",
      "Epoch 132/1000\n",
      " 1/29 [>.............................] - ETA: 0s - loss: 0.4463 - accuracy: 0.8438\n",
      "Epoch 132: saving model to model/keypoint_classifier\\keypoint_classifier.hdf5\n",
      "29/29 [==============================] - 0s 4ms/step - loss: 0.5038 - accuracy: 0.8103 - val_loss: 0.2049 - val_accuracy: 0.9524\n",
      "Epoch 133/1000\n",
      " 1/29 [>.............................] - ETA: 0s - loss: 0.5428 - accuracy: 0.7891\n",
      "Epoch 133: saving model to model/keypoint_classifier\\keypoint_classifier.hdf5\n",
      "29/29 [==============================] - 0s 4ms/step - loss: 0.5105 - accuracy: 0.8031 - val_loss: 0.2134 - val_accuracy: 0.9524\n",
      "Epoch 134/1000\n",
      "28/29 [===========================>..] - ETA: 0s - loss: 0.5019 - accuracy: 0.8100\n",
      "Epoch 134: saving model to model/keypoint_classifier\\keypoint_classifier.hdf5\n",
      "29/29 [==============================] - 0s 5ms/step - loss: 0.5013 - accuracy: 0.8103 - val_loss: 0.2114 - val_accuracy: 0.9566\n",
      "Epoch 135/1000\n",
      "28/29 [===========================>..] - ETA: 0s - loss: 0.4658 - accuracy: 0.8237\n",
      "Epoch 135: saving model to model/keypoint_classifier\\keypoint_classifier.hdf5\n",
      "29/29 [==============================] - 0s 4ms/step - loss: 0.4653 - accuracy: 0.8240 - val_loss: 0.2009 - val_accuracy: 0.9582\n",
      "Epoch 136/1000\n",
      " 1/29 [>.............................] - ETA: 0s - loss: 0.5803 - accuracy: 0.7734\n",
      "Epoch 136: saving model to model/keypoint_classifier\\keypoint_classifier.hdf5\n",
      "29/29 [==============================] - 0s 3ms/step - loss: 0.4896 - accuracy: 0.8245 - val_loss: 0.1980 - val_accuracy: 0.9557\n",
      "Epoch 137/1000\n",
      " 1/29 [>.............................] - ETA: 0s - loss: 0.4764 - accuracy: 0.8359\n",
      "Epoch 137: saving model to model/keypoint_classifier\\keypoint_classifier.hdf5\n",
      "29/29 [==============================] - 0s 3ms/step - loss: 0.4862 - accuracy: 0.8184 - val_loss: 0.1984 - val_accuracy: 0.9549\n",
      "Epoch 138/1000\n",
      " 1/29 [>.............................] - ETA: 0s - loss: 0.4520 - accuracy: 0.8438\n",
      "Epoch 138: saving model to model/keypoint_classifier\\keypoint_classifier.hdf5\n",
      "29/29 [==============================] - 0s 4ms/step - loss: 0.4976 - accuracy: 0.8067 - val_loss: 0.1994 - val_accuracy: 0.9582\n",
      "Epoch 139/1000\n",
      "27/29 [==========================>...] - ETA: 0s - loss: 0.4924 - accuracy: 0.8084\n",
      "Epoch 139: saving model to model/keypoint_classifier\\keypoint_classifier.hdf5\n",
      "29/29 [==============================] - 0s 5ms/step - loss: 0.4901 - accuracy: 0.8092 - val_loss: 0.2078 - val_accuracy: 0.9557\n",
      "Epoch 140/1000\n",
      "26/29 [=========================>....] - ETA: 0s - loss: 0.4929 - accuracy: 0.8197\n",
      "Epoch 140: saving model to model/keypoint_classifier\\keypoint_classifier.hdf5\n",
      "29/29 [==============================] - 0s 5ms/step - loss: 0.4922 - accuracy: 0.8187 - val_loss: 0.1993 - val_accuracy: 0.9599\n",
      "Epoch 141/1000\n",
      "27/29 [==========================>...] - ETA: 0s - loss: 0.4770 - accuracy: 0.8137\n",
      "Epoch 141: saving model to model/keypoint_classifier\\keypoint_classifier.hdf5\n",
      "29/29 [==============================] - 0s 5ms/step - loss: 0.4823 - accuracy: 0.8125 - val_loss: 0.2018 - val_accuracy: 0.9574\n",
      "Epoch 142/1000\n",
      " 1/29 [>.............................] - ETA: 0s - loss: 0.4682 - accuracy: 0.7891\n",
      "Epoch 142: saving model to model/keypoint_classifier\\keypoint_classifier.hdf5\n",
      "29/29 [==============================] - 0s 4ms/step - loss: 0.4901 - accuracy: 0.8128 - val_loss: 0.1991 - val_accuracy: 0.9591\n",
      "Epoch 143/1000\n",
      " 1/29 [>.............................] - ETA: 0s - loss: 0.5529 - accuracy: 0.7578\n",
      "Epoch 143: saving model to model/keypoint_classifier\\keypoint_classifier.hdf5\n",
      "29/29 [==============================] - 0s 3ms/step - loss: 0.4679 - accuracy: 0.8259 - val_loss: 0.1942 - val_accuracy: 0.9599\n",
      "Epoch 144/1000\n",
      " 1/29 [>.............................] - ETA: 0s - loss: 0.5879 - accuracy: 0.7812\n",
      "Epoch 144: saving model to model/keypoint_classifier\\keypoint_classifier.hdf5\n",
      "29/29 [==============================] - 0s 3ms/step - loss: 0.4917 - accuracy: 0.8123 - val_loss: 0.1968 - val_accuracy: 0.9582\n",
      "Epoch 145/1000\n",
      " 1/29 [>.............................] - ETA: 0s - loss: 0.4658 - accuracy: 0.8125\n",
      "Epoch 145: saving model to model/keypoint_classifier\\keypoint_classifier.hdf5\n",
      "29/29 [==============================] - 0s 4ms/step - loss: 0.5057 - accuracy: 0.8072 - val_loss: 0.1982 - val_accuracy: 0.9574\n",
      "Epoch 146/1000\n",
      "29/29 [==============================] - ETA: 0s - loss: 0.4760 - accuracy: 0.8212\n",
      "Epoch 146: saving model to model/keypoint_classifier\\keypoint_classifier.hdf5\n",
      "29/29 [==============================] - 0s 4ms/step - loss: 0.4760 - accuracy: 0.8212 - val_loss: 0.1942 - val_accuracy: 0.9624\n",
      "Epoch 147/1000\n",
      " 1/29 [>.............................] - ETA: 0s - loss: 0.5256 - accuracy: 0.8125\n",
      "Epoch 147: saving model to model/keypoint_classifier\\keypoint_classifier.hdf5\n",
      "29/29 [==============================] - 0s 3ms/step - loss: 0.4829 - accuracy: 0.8162 - val_loss: 0.2011 - val_accuracy: 0.9599\n",
      "Epoch 148/1000\n",
      " 1/29 [>.............................] - ETA: 0s - loss: 0.4573 - accuracy: 0.8359\n",
      "Epoch 148: saving model to model/keypoint_classifier\\keypoint_classifier.hdf5\n",
      "29/29 [==============================] - 0s 4ms/step - loss: 0.4836 - accuracy: 0.8259 - val_loss: 0.1962 - val_accuracy: 0.9599\n",
      "Epoch 149/1000\n",
      " 1/29 [>.............................] - ETA: 0s - loss: 0.5007 - accuracy: 0.7812\n",
      "Epoch 149: saving model to model/keypoint_classifier\\keypoint_classifier.hdf5\n",
      "29/29 [==============================] - 0s 4ms/step - loss: 0.4530 - accuracy: 0.8251 - val_loss: 0.1991 - val_accuracy: 0.9566\n",
      "Epoch 150/1000\n",
      " 1/29 [>.............................] - ETA: 0s - loss: 0.5349 - accuracy: 0.7891\n",
      "Epoch 150: saving model to model/keypoint_classifier\\keypoint_classifier.hdf5\n",
      "29/29 [==============================] - 0s 3ms/step - loss: 0.4754 - accuracy: 0.8203 - val_loss: 0.1981 - val_accuracy: 0.9557\n",
      "Epoch 151/1000\n",
      " 1/29 [>.............................] - ETA: 0s - loss: 0.4064 - accuracy: 0.8516\n",
      "Epoch 151: saving model to model/keypoint_classifier\\keypoint_classifier.hdf5\n",
      "29/29 [==============================] - 0s 4ms/step - loss: 0.4725 - accuracy: 0.8167 - val_loss: 0.1944 - val_accuracy: 0.9591\n",
      "Epoch 152/1000\n",
      "27/29 [==========================>...] - ETA: 0s - loss: 0.4632 - accuracy: 0.8273\n",
      "Epoch 152: saving model to model/keypoint_classifier\\keypoint_classifier.hdf5\n",
      "29/29 [==============================] - 0s 5ms/step - loss: 0.4642 - accuracy: 0.8270 - val_loss: 0.1932 - val_accuracy: 0.9599\n",
      "Epoch 153/1000\n",
      " 1/29 [>.............................] - ETA: 0s - loss: 0.5293 - accuracy: 0.7891\n",
      "Epoch 153: saving model to model/keypoint_classifier\\keypoint_classifier.hdf5\n",
      "29/29 [==============================] - 0s 4ms/step - loss: 0.4893 - accuracy: 0.8145 - val_loss: 0.1915 - val_accuracy: 0.9582\n",
      "Epoch 154/1000\n",
      " 1/29 [>.............................] - ETA: 0s - loss: 0.4345 - accuracy: 0.8281\n",
      "Epoch 154: saving model to model/keypoint_classifier\\keypoint_classifier.hdf5\n",
      "29/29 [==============================] - 0s 3ms/step - loss: 0.4765 - accuracy: 0.8198 - val_loss: 0.1937 - val_accuracy: 0.9582\n",
      "Epoch 155/1000\n",
      " 1/29 [>.............................] - ETA: 0s - loss: 0.4474 - accuracy: 0.8125\n",
      "Epoch 155: saving model to model/keypoint_classifier\\keypoint_classifier.hdf5\n",
      "29/29 [==============================] - 0s 4ms/step - loss: 0.4896 - accuracy: 0.8184 - val_loss: 0.1925 - val_accuracy: 0.9616\n",
      "Epoch 156/1000\n",
      " 1/29 [>.............................] - ETA: 0s - loss: 0.4545 - accuracy: 0.8516\n",
      "Epoch 156: saving model to model/keypoint_classifier\\keypoint_classifier.hdf5\n",
      "29/29 [==============================] - 0s 4ms/step - loss: 0.4582 - accuracy: 0.8301 - val_loss: 0.1950 - val_accuracy: 0.9599\n",
      "Epoch 157/1000\n",
      " 1/29 [>.............................] - ETA: 0s - loss: 0.4981 - accuracy: 0.8125\n",
      "Epoch 157: saving model to model/keypoint_classifier\\keypoint_classifier.hdf5\n",
      "29/29 [==============================] - 0s 4ms/step - loss: 0.4867 - accuracy: 0.8070 - val_loss: 0.1926 - val_accuracy: 0.9607\n",
      "Epoch 158/1000\n",
      " 1/29 [>.............................] - ETA: 0s - loss: 0.4786 - accuracy: 0.7969\n",
      "Epoch 158: saving model to model/keypoint_classifier\\keypoint_classifier.hdf5\n",
      "29/29 [==============================] - 0s 3ms/step - loss: 0.4710 - accuracy: 0.8198 - val_loss: 0.1950 - val_accuracy: 0.9599\n",
      "Epoch 159/1000\n",
      " 1/29 [>.............................] - ETA: 0s - loss: 0.4070 - accuracy: 0.8438\n",
      "Epoch 159: saving model to model/keypoint_classifier\\keypoint_classifier.hdf5\n",
      "29/29 [==============================] - 0s 3ms/step - loss: 0.4793 - accuracy: 0.8217 - val_loss: 0.1978 - val_accuracy: 0.9624\n",
      "Epoch 160/1000\n",
      " 1/29 [>.............................] - ETA: 0s - loss: 0.3559 - accuracy: 0.8906\n",
      "Epoch 160: saving model to model/keypoint_classifier\\keypoint_classifier.hdf5\n",
      "29/29 [==============================] - 0s 4ms/step - loss: 0.4698 - accuracy: 0.8273 - val_loss: 0.1938 - val_accuracy: 0.9582\n",
      "Epoch 161/1000\n",
      " 1/29 [>.............................] - ETA: 0s - loss: 0.3882 - accuracy: 0.8828\n",
      "Epoch 161: saving model to model/keypoint_classifier\\keypoint_classifier.hdf5\n",
      "29/29 [==============================] - 0s 3ms/step - loss: 0.4678 - accuracy: 0.8265 - val_loss: 0.1918 - val_accuracy: 0.9591\n",
      "Epoch 162/1000\n",
      " 1/29 [>.............................] - ETA: 0s - loss: 0.4717 - accuracy: 0.7969\n",
      "Epoch 162: saving model to model/keypoint_classifier\\keypoint_classifier.hdf5\n",
      "29/29 [==============================] - 0s 4ms/step - loss: 0.4938 - accuracy: 0.8117 - val_loss: 0.1986 - val_accuracy: 0.9599\n",
      "Epoch 163/1000\n",
      " 1/29 [>.............................] - ETA: 0s - loss: 0.5861 - accuracy: 0.8047\n",
      "Epoch 163: saving model to model/keypoint_classifier\\keypoint_classifier.hdf5\n",
      "29/29 [==============================] - 0s 4ms/step - loss: 0.4675 - accuracy: 0.8242 - val_loss: 0.2011 - val_accuracy: 0.9591\n",
      "Epoch 164/1000\n",
      " 1/29 [>.............................] - ETA: 0s - loss: 0.4286 - accuracy: 0.8672\n",
      "Epoch 164: saving model to model/keypoint_classifier\\keypoint_classifier.hdf5\n",
      "29/29 [==============================] - 0s 4ms/step - loss: 0.4786 - accuracy: 0.8234 - val_loss: 0.1986 - val_accuracy: 0.9599\n",
      "Epoch 165/1000\n",
      " 1/29 [>.............................] - ETA: 0s - loss: 0.4235 - accuracy: 0.8359\n",
      "Epoch 165: saving model to model/keypoint_classifier\\keypoint_classifier.hdf5\n",
      "29/29 [==============================] - 0s 3ms/step - loss: 0.4839 - accuracy: 0.8123 - val_loss: 0.1997 - val_accuracy: 0.9566\n",
      "Epoch 166/1000\n",
      " 1/29 [>.............................] - ETA: 0s - loss: 0.3877 - accuracy: 0.8594\n",
      "Epoch 166: saving model to model/keypoint_classifier\\keypoint_classifier.hdf5\n",
      "29/29 [==============================] - 0s 4ms/step - loss: 0.4698 - accuracy: 0.8184 - val_loss: 0.1956 - val_accuracy: 0.9557\n",
      "Epoch 167/1000\n",
      " 1/29 [>.............................] - ETA: 0s - loss: 0.4612 - accuracy: 0.8203\n",
      "Epoch 167: saving model to model/keypoint_classifier\\keypoint_classifier.hdf5\n",
      "29/29 [==============================] - 0s 4ms/step - loss: 0.4735 - accuracy: 0.8242 - val_loss: 0.1984 - val_accuracy: 0.9574\n",
      "Epoch 168/1000\n",
      " 1/29 [>.............................] - ETA: 0s - loss: 0.4084 - accuracy: 0.8516\n",
      "Epoch 168: saving model to model/keypoint_classifier\\keypoint_classifier.hdf5\n",
      "29/29 [==============================] - 0s 3ms/step - loss: 0.4846 - accuracy: 0.8223 - val_loss: 0.2004 - val_accuracy: 0.9591\n",
      "Epoch 169/1000\n",
      " 1/29 [>.............................] - ETA: 0s - loss: 0.5121 - accuracy: 0.8359\n",
      "Epoch 169: saving model to model/keypoint_classifier\\keypoint_classifier.hdf5\n",
      "29/29 [==============================] - 0s 4ms/step - loss: 0.4686 - accuracy: 0.8320 - val_loss: 0.1833 - val_accuracy: 0.9666\n",
      "Epoch 170/1000\n",
      " 1/29 [>.............................] - ETA: 0s - loss: 0.4903 - accuracy: 0.8281\n",
      "Epoch 170: saving model to model/keypoint_classifier\\keypoint_classifier.hdf5\n",
      "29/29 [==============================] - 0s 4ms/step - loss: 0.4771 - accuracy: 0.8195 - val_loss: 0.1919 - val_accuracy: 0.9624\n",
      "Epoch 171/1000\n",
      " 1/29 [>.............................] - ETA: 0s - loss: 0.4363 - accuracy: 0.8750\n",
      "Epoch 171: saving model to model/keypoint_classifier\\keypoint_classifier.hdf5\n",
      "29/29 [==============================] - 0s 3ms/step - loss: 0.4645 - accuracy: 0.8309 - val_loss: 0.1907 - val_accuracy: 0.9607\n",
      "Epoch 172/1000\n",
      " 1/29 [>.............................] - ETA: 0s - loss: 0.6514 - accuracy: 0.7344\n",
      "Epoch 172: saving model to model/keypoint_classifier\\keypoint_classifier.hdf5\n",
      "29/29 [==============================] - 0s 4ms/step - loss: 0.4786 - accuracy: 0.8228 - val_loss: 0.2038 - val_accuracy: 0.9574\n",
      "Epoch 173/1000\n",
      " 1/29 [>.............................] - ETA: 0s - loss: 0.6136 - accuracy: 0.7500\n",
      "Epoch 173: saving model to model/keypoint_classifier\\keypoint_classifier.hdf5\n",
      "29/29 [==============================] - 0s 4ms/step - loss: 0.4827 - accuracy: 0.8109 - val_loss: 0.1953 - val_accuracy: 0.9649\n",
      "Epoch 174/1000\n",
      " 1/29 [>.............................] - ETA: 0s - loss: 0.4519 - accuracy: 0.8125\n",
      "Epoch 174: saving model to model/keypoint_classifier\\keypoint_classifier.hdf5\n",
      "29/29 [==============================] - 0s 3ms/step - loss: 0.4552 - accuracy: 0.8373 - val_loss: 0.1874 - val_accuracy: 0.9632\n",
      "Epoch 175/1000\n",
      " 1/29 [>.............................] - ETA: 0s - loss: 0.3771 - accuracy: 0.8828\n",
      "Epoch 175: saving model to model/keypoint_classifier\\keypoint_classifier.hdf5\n",
      "29/29 [==============================] - 0s 3ms/step - loss: 0.4790 - accuracy: 0.8206 - val_loss: 0.1926 - val_accuracy: 0.9607\n",
      "Epoch 176/1000\n",
      " 1/29 [>.............................] - ETA: 0s - loss: 0.4453 - accuracy: 0.8125\n",
      "Epoch 176: saving model to model/keypoint_classifier\\keypoint_classifier.hdf5\n",
      "29/29 [==============================] - 0s 3ms/step - loss: 0.4734 - accuracy: 0.8220 - val_loss: 0.2011 - val_accuracy: 0.9574\n",
      "Epoch 177/1000\n",
      " 1/29 [>.............................] - ETA: 0s - loss: 0.4793 - accuracy: 0.8047\n",
      "Epoch 177: saving model to model/keypoint_classifier\\keypoint_classifier.hdf5\n",
      "29/29 [==============================] - 0s 4ms/step - loss: 0.4670 - accuracy: 0.8253 - val_loss: 0.1835 - val_accuracy: 0.9641\n",
      "Epoch 178/1000\n",
      " 1/29 [>.............................] - ETA: 0s - loss: 0.5455 - accuracy: 0.7969\n",
      "Epoch 178: saving model to model/keypoint_classifier\\keypoint_classifier.hdf5\n",
      "29/29 [==============================] - 0s 4ms/step - loss: 0.4561 - accuracy: 0.8323 - val_loss: 0.1842 - val_accuracy: 0.9607\n",
      "Epoch 179/1000\n",
      " 1/29 [>.............................] - ETA: 0s - loss: 0.4976 - accuracy: 0.8281\n",
      "Epoch 179: saving model to model/keypoint_classifier\\keypoint_classifier.hdf5\n",
      "29/29 [==============================] - 0s 4ms/step - loss: 0.4712 - accuracy: 0.8148 - val_loss: 0.1900 - val_accuracy: 0.9616\n",
      "Epoch 180/1000\n",
      " 1/29 [>.............................] - ETA: 0s - loss: 0.4757 - accuracy: 0.8281\n",
      "Epoch 180: saving model to model/keypoint_classifier\\keypoint_classifier.hdf5\n",
      "29/29 [==============================] - 0s 3ms/step - loss: 0.4636 - accuracy: 0.8309 - val_loss: 0.1882 - val_accuracy: 0.9616\n",
      "Epoch 181/1000\n",
      " 1/29 [>.............................] - ETA: 0s - loss: 0.5065 - accuracy: 0.8125\n",
      "Epoch 181: saving model to model/keypoint_classifier\\keypoint_classifier.hdf5\n",
      "29/29 [==============================] - 0s 3ms/step - loss: 0.4865 - accuracy: 0.8178 - val_loss: 0.1925 - val_accuracy: 0.9616\n",
      "Epoch 182/1000\n",
      " 1/29 [>.............................] - ETA: 0s - loss: 0.4239 - accuracy: 0.8125\n",
      "Epoch 182: saving model to model/keypoint_classifier\\keypoint_classifier.hdf5\n",
      "29/29 [==============================] - 0s 3ms/step - loss: 0.4838 - accuracy: 0.8198 - val_loss: 0.1980 - val_accuracy: 0.9574\n",
      "Epoch 183/1000\n",
      " 1/29 [>.............................] - ETA: 0s - loss: 0.4203 - accuracy: 0.8359\n",
      "Epoch 183: saving model to model/keypoint_classifier\\keypoint_classifier.hdf5\n",
      "29/29 [==============================] - 0s 4ms/step - loss: 0.4611 - accuracy: 0.8198 - val_loss: 0.1894 - val_accuracy: 0.9666\n",
      "Epoch 184/1000\n",
      " 1/29 [>.............................] - ETA: 0s - loss: 0.5517 - accuracy: 0.8047\n",
      "Epoch 184: saving model to model/keypoint_classifier\\keypoint_classifier.hdf5\n",
      "29/29 [==============================] - 0s 5ms/step - loss: 0.4644 - accuracy: 0.8290 - val_loss: 0.1886 - val_accuracy: 0.9657\n",
      "Epoch 185/1000\n",
      " 1/29 [>.............................] - ETA: 0s - loss: 0.5283 - accuracy: 0.7891\n",
      "Epoch 185: saving model to model/keypoint_classifier\\keypoint_classifier.hdf5\n",
      "29/29 [==============================] - 0s 3ms/step - loss: 0.4640 - accuracy: 0.8281 - val_loss: 0.1912 - val_accuracy: 0.9649\n",
      "Epoch 186/1000\n",
      " 1/29 [>.............................] - ETA: 0s - loss: 0.4389 - accuracy: 0.8359\n",
      "Epoch 186: saving model to model/keypoint_classifier\\keypoint_classifier.hdf5\n",
      "29/29 [==============================] - 0s 3ms/step - loss: 0.4859 - accuracy: 0.8220 - val_loss: 0.2003 - val_accuracy: 0.9607\n",
      "Epoch 187/1000\n",
      " 1/29 [>.............................] - ETA: 0s - loss: 0.5784 - accuracy: 0.8125\n",
      "Epoch 187: saving model to model/keypoint_classifier\\keypoint_classifier.hdf5\n",
      "29/29 [==============================] - 0s 4ms/step - loss: 0.4792 - accuracy: 0.8195 - val_loss: 0.1985 - val_accuracy: 0.9607\n",
      "Epoch 188/1000\n",
      " 1/29 [>.............................] - ETA: 0s - loss: 0.5196 - accuracy: 0.7422\n",
      "Epoch 188: saving model to model/keypoint_classifier\\keypoint_classifier.hdf5\n",
      "29/29 [==============================] - 0s 3ms/step - loss: 0.4664 - accuracy: 0.8220 - val_loss: 0.1903 - val_accuracy: 0.9599\n",
      "Epoch 189/1000\n",
      " 1/29 [>.............................] - ETA: 0s - loss: 0.5027 - accuracy: 0.7969\n",
      "Epoch 189: saving model to model/keypoint_classifier\\keypoint_classifier.hdf5\n",
      "29/29 [==============================] - 0s 3ms/step - loss: 0.4641 - accuracy: 0.8231 - val_loss: 0.1894 - val_accuracy: 0.9632\n",
      "Epoch 189: early stopping\n"
     ]
    },
    {
     "data": {
      "text/plain": [
       "<keras.callbacks.History at 0x24c5346a8f0>"
      ]
     },
     "execution_count": 11,
     "metadata": {},
     "output_type": "execute_result"
    }
   ],
   "execution_count": 11
  },
  {
   "cell_type": "code",
   "metadata": {
    "ExecuteTime": {
     "end_time": "2024-05-06T20:57:48.454182Z",
     "start_time": "2024-05-06T20:57:48.381380Z"
    }
   },
   "source": [
    "# モデル評価\n",
    "val_loss, val_acc = model.evaluate(X_test, y_test, batch_size=128)"
   ],
   "outputs": [
    {
     "name": "stdout",
     "output_type": "stream",
     "text": [
      "10/10 [==============================] - 0s 997us/step - loss: 0.1894 - accuracy: 0.9632\n"
     ]
    }
   ],
   "execution_count": 12
  },
  {
   "cell_type": "code",
   "metadata": {
    "ExecuteTime": {
     "end_time": "2024-05-06T20:57:48.546935Z",
     "start_time": "2024-05-06T20:57:48.455181Z"
    }
   },
   "source": [
    "# 保存したモデルのロード\n",
    "model = tf.keras.models.load_model(model_save_path)"
   ],
   "outputs": [],
   "execution_count": 13
  },
  {
   "cell_type": "code",
   "metadata": {
    "ExecuteTime": {
     "end_time": "2024-05-06T20:57:48.704514Z",
     "start_time": "2024-05-06T20:57:48.549927Z"
    }
   },
   "source": [
    "# 推論テスト\n",
    "predict_result = model.predict(np.array([X_test[0]]))\n",
    "print(np.squeeze(predict_result))\n",
    "print(np.argmax(np.squeeze(predict_result)))"
   ],
   "outputs": [
    {
     "name": "stdout",
     "output_type": "stream",
     "text": [
      "1/1 [==============================] - 0s 83ms/step\n",
      "[9.4678235e-01 5.2764311e-02 4.5045424e-04 2.8728264e-06]\n",
      "0\n"
     ]
    }
   ],
   "execution_count": 14
  },
  {
   "cell_type": "markdown",
   "metadata": {},
   "source": [
    "# 混同行列"
   ]
  },
  {
   "cell_type": "code",
   "metadata": {
    "ExecuteTime": {
     "end_time": "2024-05-06T20:57:49.063873Z",
     "start_time": "2024-05-06T20:57:48.705522Z"
    }
   },
   "source": [
    "import pandas as pd\n",
    "import seaborn as sns\n",
    "import matplotlib.pyplot as plt\n",
    "from sklearn.metrics import confusion_matrix, classification_report\n",
    "\n",
    "def print_confusion_matrix(y_true, y_pred, report=True):\n",
    "    labels = sorted(list(set(y_true)))\n",
    "    cmx_data = confusion_matrix(y_true, y_pred, labels=labels)\n",
    "    \n",
    "    df_cmx = pd.DataFrame(cmx_data, index=labels, columns=labels)\n",
    " \n",
    "    fig, ax = plt.subplots(figsize=(7, 6))\n",
    "    sns.heatmap(df_cmx, annot=True, fmt='g' ,square=False)\n",
    "    ax.set_ylim(len(set(y_true)), 0)\n",
    "    plt.show()\n",
    "    \n",
    "    if report:\n",
    "        print('Classification Report')\n",
    "        print(classification_report(y_test, y_pred))\n",
    "\n",
    "Y_pred = model.predict(X_test)\n",
    "y_pred = np.argmax(Y_pred, axis=1)\n",
    "\n",
    "print_confusion_matrix(y_test, y_pred)"
   ],
   "outputs": [
    {
     "name": "stdout",
     "output_type": "stream",
     "text": [
      "38/38 [==============================] - 0s 647us/step\n"
     ]
    },
    {
     "data": {
      "text/plain": [
       "<Figure size 700x600 with 2 Axes>"
      ],
      "image/png": "[encoded data removed]"
     },
     "metadata": {},
     "output_type": "display_data"
    },
    {
     "name": "stdout",
     "output_type": "stream",
     "text": [
      "Classification Report\n",
      "              precision    recall  f1-score   support\n",
      "\n",
      "           0       0.98      0.99      0.99       402\n",
      "           1       0.99      0.91      0.94       366\n",
      "           2       0.92      0.98      0.95       343\n",
      "           3       0.99      0.99      0.99        86\n",
      "\n",
      "    accuracy                           0.96      1197\n",
      "   macro avg       0.97      0.97      0.97      1197\n",
      "weighted avg       0.96      0.96      0.96      1197\n",
      "\n"
     ]
    }
   ],
   "execution_count": 15
  },
  {
   "cell_type": "markdown",
   "metadata": {},
   "source": [
    "# Tensorflow-Lite用のモデルへ変換"
   ]
  },
  {
   "cell_type": "code",
   "metadata": {
    "ExecuteTime": {
     "end_time": "2024-05-06T20:57:49.093790Z",
     "start_time": "2024-05-06T20:57:49.066861Z"
    }
   },
   "source": [
    "# 推論専用のモデルとして保存\n",
    "model.save(model_save_path, include_optimizer=False)"
   ],
   "outputs": [],
   "execution_count": 16
  },
  {
   "cell_type": "code",
   "metadata": {
    "ExecuteTime": {
     "end_time": "2024-05-06T20:57:50.485764Z",
     "start_time": "2024-05-06T20:57:49.095783Z"
    }
   },
   "source": [
    "# モデルを変換(量子化)\n",
    "tflite_save_path = 'model/keypoint_classifier/keypoint_classifier.tflite'\n",
    "\n",
    "converter = tf.lite.TFLiteConverter.from_keras_model(model)\n",
    "converter.optimizations = [tf.lite.Optimize.DEFAULT]\n",
    "tflite_quantized_model = converter.convert()\n",
    "\n",
    "open(tflite_save_path, 'wb').write(tflite_quantized_model)"
   ],
   "outputs": [
    {
     "name": "stderr",
     "output_type": "stream",
     "text": [
      "WARNING:absl:Found untraced functions such as _update_step_xla while saving (showing 1 of 1). These functions will not be directly callable after loading.\n"
     ]
    },
    {
     "name": "stdout",
     "output_type": "stream",
     "text": [
      "INFO:tensorflow:Assets written to: C:\\Users\\GUESTC~1\\AppData\\Local\\Temp\\tmpg_m3j26s\\assets\n"
     ]
    },
    {
     "name": "stderr",
     "output_type": "stream",
     "text": [
      "INFO:tensorflow:Assets written to: C:\\Users\\GUESTC~1\\AppData\\Local\\Temp\\tmpg_m3j26s\\assets\n"
     ]
    },
    {
     "data": {
      "text/plain": [
       "6544"
      ]
     },
     "execution_count": 17,
     "metadata": {},
     "output_type": "execute_result"
    }
   ],
   "execution_count": 17
  },
  {
   "cell_type": "markdown",
   "metadata": {},
   "source": [
    "# 推論テスト"
   ]
  },
  {
   "cell_type": "code",
   "metadata": {
    "ExecuteTime": {
     "end_time": "2024-05-06T20:57:50.532637Z",
     "start_time": "2024-05-06T20:57:50.486762Z"
    }
   },
   "source": [
    "interpreter = tf.lite.Interpreter(model_path=tflite_save_path)\n",
    "interpreter.allocate_tensors()"
   ],
   "outputs": [],
   "execution_count": 18
  },
  {
   "cell_type": "code",
   "metadata": {
    "ExecuteTime": {
     "end_time": "2024-05-06T20:57:50.547598Z",
     "start_time": "2024-05-06T20:57:50.533636Z"
    }
   },
   "source": [
    "# 入出力テンソルを取得\n",
    "input_details = interpreter.get_input_details()\n",
    "output_details = interpreter.get_output_details()"
   ],
   "outputs": [],
   "execution_count": 19
  },
  {
   "cell_type": "code",
   "metadata": {
    "ExecuteTime": {
     "end_time": "2024-05-06T20:57:50.563555Z",
     "start_time": "2024-05-06T20:57:50.548596Z"
    }
   },
   "source": [
    "interpreter.set_tensor(input_details[0]['index'], np.array([X_test[0]]))"
   ],
   "outputs": [],
   "execution_count": 20
  },
  {
   "cell_type": "code",
   "metadata": {
    "scrolled": true,
    "ExecuteTime": {
     "end_time": "2024-05-06T20:57:50.579514Z",
     "start_time": "2024-05-06T20:57:50.565552Z"
    }
   },
   "source": [
    "%%time\n",
    "# 推論実施\n",
    "interpreter.invoke()\n",
    "tflite_results = interpreter.get_tensor(output_details[0]['index'])"
   ],
   "outputs": [
    {
     "name": "stdout",
     "output_type": "stream",
     "text": [
      "CPU times: total: 0 ns\n",
      "Wall time: 997 µs\n"
     ]
    }
   ],
   "execution_count": 21
  },
  {
   "cell_type": "code",
   "metadata": {
    "ExecuteTime": {
     "end_time": "2024-05-06T20:57:50.595470Z",
     "start_time": "2024-05-06T20:57:50.581508Z"
    }
   },
   "source": [
    "print(np.squeeze(tflite_results))\n",
    "print(np.argmax(np.squeeze(tflite_results)))"
   ],
   "outputs": [
    {
     "name": "stdout",
     "output_type": "stream",
     "text": [
      "[9.4678235e-01 5.2764323e-02 4.5045468e-04 2.8728205e-06]\n",
      "0\n"
     ]
    }
   ],
   "execution_count": 22
  }
 ],
 "metadata": {
  "kernelspec": {
   "display_name": "Python 3",
   "language": "python",
   "name": "python3"
  },
  "language_info": {
   "codemirror_mode": {
    "name": "ipython",
    "version": 3
   },
   "file_extension": ".py",
   "mimetype": "text/x-python",
   "name": "python",
   "nbconvert_exporter": "python",
   "pygments_lexer": "ipython3",
   "version": "3.8.5"
  }
 },
 "nbformat": 4,
 "nbformat_minor": 4
}
